{
 "cells": [
  {
   "cell_type": "code",
   "execution_count": 1,
   "source": [
    "import numpy as np\r\n",
    "import matplotlib.pyplot as plt\r\n",
    "\r\n",
    "from scipy import fftpack\r\n",
    "from matplotlib.colors import LogNorm"
   ],
   "outputs": [],
   "metadata": {}
  },
  {
   "cell_type": "code",
   "execution_count": null,
   "source": [
    "def show_gray(img, title):\r\n",
    "  plt.figure(figsize=(12, 10))\r\n",
    "  plt.title(title)\r\n",
    "  plt.imshow(img, plt.cm.gray)\r\n",
    "  plt.colorbar()\r\n",
    "  plt.show()\r\n",
    "\r\n",
    "def show_gray(IMG, title):\r\n",
    "  plt.figure(figsize=(12, 10))\r\n",
    "  plt.title(title)\r\n",
    "  plt.imshow(np.abs(IMG), norm=LogNorm(vmin=5))\r\n",
    "  plt.colorbar()\r\n",
    "  plt.show()"
   ],
   "outputs": [],
   "metadata": {}
  }
 ],
 "metadata": {
  "orig_nbformat": 4,
  "language_info": {
   "name": "python",
   "version": "3.7.11",
   "mimetype": "text/x-python",
   "codemirror_mode": {
    "name": "ipython",
    "version": 3
   },
   "pygments_lexer": "ipython3",
   "nbconvert_exporter": "python",
   "file_extension": ".py"
  },
  "kernelspec": {
   "name": "python3",
   "display_name": "Python 3.7.11 64-bit ('compvis': conda)"
  },
  "interpreter": {
   "hash": "d16beab33433e7435dee108bfd4edae8a722c34ab8e0212e95b0341d917b40b7"
  }
 },
 "nbformat": 4,
 "nbformat_minor": 2
}