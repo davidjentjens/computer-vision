{
 "cells": [
  {
   "cell_type": "markdown",
   "metadata": {},
   "source": [
    "<h2>Neural Network from scratch in Python</h2>\n",
    "<h3>Make your own machine learning library</h3>\n",
    "<p>MNIST FC --- version: notebook + lib</p>\n",
    "<p>\n",
    "Este notebook foi preparado para fazer a correção do trabalho 2 do cursos INF1310/INF2064 de 2021.2 da PUC-Rio.</p>"
   ]
  },
  {
   "cell_type": "code",
   "execution_count": 1,
   "metadata": {
    "ExecuteTime": {
     "end_time": "2021-08-29T17:01:58.444967Z",
     "start_time": "2021-08-29T17:01:57.126418Z"
    }
   },
   "outputs": [],
   "source": [
    "import numpy as np\n",
    "import matplotlib.pyplot as plt\n",
    "from tensorflow.keras.datasets import mnist\n",
    "import sklearn.metrics as mt\n",
    "import time "
   ]
  },
  {
   "cell_type": "markdown",
   "metadata": {},
   "source": [
    "<h2>Importa a rede implementada por cada alun@ </h2>\n",
    "<p>\n",
    "Cada alun@ deve desenvolver uma biblioteca que implemnta um rede MultiLayerPerceptron num arquivo \n",
    "Pyhton chamado \"MLPSeuNome.py\"  \n",
    "que tenha a API que atenda este notebook.</br>\n",
    "</p>"
   ]
  },
  {
   "cell_type": "code",
   "execution_count": 2,
   "metadata": {
    "ExecuteTime": {
     "end_time": "2021-08-29T17:02:01.179045Z",
     "start_time": "2021-08-29T17:02:01.139998Z"
    }
   },
   "outputs": [],
   "source": [
    "from MLP_DavidJentjens import *\n",
    "autor = \"David Maisonnette Jentjens\""
   ]
  },
  {
   "cell_type": "markdown",
   "metadata": {
    "ExecuteTime": {
     "end_time": "2021-08-29T17:02:02.562690Z",
     "start_time": "2021-08-29T17:02:02.559277Z"
    }
   },
   "source": [
    "<h2>Carrega MNIST da rede</h2>"
   ]
  },
  {
   "cell_type": "code",
   "execution_count": 3,
   "metadata": {
    "ExecuteTime": {
     "end_time": "2021-08-29T17:02:12.234388Z",
     "start_time": "2021-08-29T17:02:12.018447Z"
    }
   },
   "outputs": [
    {
     "name": "stdout",
     "output_type": "stream",
     "text": [
      "(60000, 28, 28) (60000,) (10000, 28, 28) (10000,)\n"
     ]
    }
   ],
   "source": [
    "#MNIST Dataset\n",
    "(x_train, y_train), (x_test, y_test) = mnist.load_data()\n",
    "print(x_train.shape,y_train.shape,x_test.shape,y_test.shape)"
   ]
  },
  {
   "cell_type": "code",
   "execution_count": 4,
   "metadata": {
    "ExecuteTime": {
     "end_time": "2021-08-29T17:02:16.394102Z",
     "start_time": "2021-08-29T17:02:16.203286Z"
    }
   },
   "outputs": [
    {
     "data": {
      "image/png": "[encoded data removed]",
      "text/plain": [
       "<Figure size 1296x576 with 5 Axes>"
      ]
     },
     "metadata": {
      "needs_background": "light"
     },
     "output_type": "display_data"
    }
   ],
   "source": [
    "fig, ax = plt.subplots(1,5, figsize=(18, 8))\n",
    "for i in range(5):\n",
    "  ax[i].imshow(x_train[i], cmap='gray')\n",
    "  ax[i].set_title('Label ' + str(y_train[i]))\n",
    "plt.show()"
   ]
  },
  {
   "cell_type": "code",
   "execution_count": 5,
   "metadata": {
    "ExecuteTime": {
     "end_time": "2021-08-29T17:02:24.185366Z",
     "start_time": "2021-08-29T17:02:24.090498Z"
    }
   },
   "outputs": [
    {
     "name": "stdout",
     "output_type": "stream",
     "text": [
      "(60000, 784)\n"
     ]
    }
   ],
   "source": [
    "# training data : 60000 samples\n",
    "# reshape and normalize input data\n",
    "x_train = x_train.reshape(x_train.shape[0],28*28)\n",
    "x_train = x_train.astype('float32')\n",
    "x_train /= 255\n",
    "# encode output which is a number in range [0,9] into a vector of size 10\n",
    "# e.g. number 3 will become [0, 0, 0, 1, 0, 0, 0, 0, 0, 0]\n",
    "\n",
    "#y_train = np_utils.to_categorical(y_train)\n",
    "\n",
    "# same for test data : 10000 samples\n",
    "x_test = x_test.reshape(x_test.shape[0],28*28)\n",
    "x_test = x_test.astype('float32')\n",
    "x_test /= 255\n",
    "#y_test = np_utils.to_categorical(y_test)\n",
    "\n",
    "print(x_train.shape)"
   ]
  },
  {
   "cell_type": "code",
   "execution_count": 6,
   "metadata": {
    "ExecuteTime": {
     "end_time": "2021-08-29T17:02:36.419284Z",
     "start_time": "2021-08-29T17:02:36.388472Z"
    }
   },
   "outputs": [
    {
     "name": "stdout",
     "output_type": "stream",
     "text": [
      "5 [0 0 0 0 0 1 0 0 0 0]\n",
      "7 [0 0 0 0 0 0 0 1 0 0]\n",
      "(60000,) (60000, 10)\n"
     ]
    }
   ],
   "source": [
    "# Compute the \"on hot representation\" of a lable \n",
    "def one_hot(vet):\n",
    "    n = vet.shape[0]\n",
    "    mat = np.zeros(shape=(n,10),dtype=np.int32)\n",
    "    for i in range(n):\n",
    "        j = vet[i]\n",
    "        mat[i,j]=1\n",
    "    return mat\n",
    "\n",
    "y_train_one_hot = one_hot(y_train)\n",
    "y_test_one_hot = one_hot(y_test)\n",
    "\n",
    "print(y_train[0],y_train_one_hot[0])\n",
    "print(y_test[0],y_test_one_hot[0])\n",
    "\n",
    "print(y_train.shape,y_train_one_hot.shape)"
   ]
  },
  {
   "cell_type": "markdown",
   "metadata": {},
   "source": [
    "<h2>Verifica o balanceamento das amostras</h2>"
   ]
  },
  {
   "cell_type": "code",
   "execution_count": 7,
   "metadata": {
    "ExecuteTime": {
     "end_time": "2021-08-29T17:02:39.396809Z",
     "start_time": "2021-08-29T17:02:39.389691Z"
    }
   },
   "outputs": [
    {
     "name": "stdout",
     "output_type": "stream",
     "text": [
      "Valores Y: [0 1 2 3 4 5 6 7 8 9]\n",
      "Histograma treinamento: [5923 6742 5958 6131 5842 5421 5918 6265 5851 5949]\n",
      "Histograma test: [ 980 1135 1032 1010  982  892  958 1028  974 1009]\n",
      "Totais: treinamento=60000, test=10000\n"
     ]
    }
   ],
   "source": [
    "#Count occurrences of each class in each set\n",
    "values, counts_train = np.unique(y_train, return_counts=True)\n",
    "values, counts_test = np.unique(y_test, return_counts=True)\n",
    "print(f'Valores Y: {values}')\n",
    "print(f'Histograma treinamento: {counts_train}')\n",
    "print(f'Histograma test: {counts_test}')\n",
    "print(f'Totais: treinamento={np.sum(counts_train)}, test={np.sum(counts_test)}')"
   ]
  },
  {
   "cell_type": "markdown",
   "metadata": {},
   "source": [
    "<h2>Definição da rede</h2>"
   ]
  },
  {
   "cell_type": "code",
   "execution_count": 8,
   "metadata": {},
   "outputs": [],
   "source": [
    "x_train = x_train.reshape(60000, 1, 784)"
   ]
  },
  {
   "cell_type": "code",
   "execution_count": 9,
   "metadata": {
    "ExecuteTime": {
     "end_time": "2021-08-29T17:02:55.876980Z",
     "start_time": "2021-08-29T17:02:55.870954Z"
    }
   },
   "outputs": [],
   "source": [
    "# Network\n",
    "net = Network()\n",
    "net.layer(FCLayer(28*28, 100))                # input_shape=(1, 28*28)    ;   output_shape=(1, 200)\n",
    "net.layer(ActLayer(sigmoid, sigmoid_prime))\n",
    "net.layer(FCLayer(100, 50))                   # input_shape=(1, 200)      ;   output_shape=(1, 100)\n",
    "net.layer(ActLayer(sigmoid, sigmoid_prime))\n",
    "net.layer(FCLayer(50, 10))                    # input_shape=(1, 50)      ;   output_shape=(1, 10)\n",
    "net.layer(ActLayer(sigmoid, sigmoid_prime))\n",
    "net.use(mse, mse_prime)"
   ]
  },
  {
   "cell_type": "markdown",
   "metadata": {},
   "source": [
    "<h2>Treinamento</h2>"
   ]
  },
  {
   "cell_type": "code",
   "execution_count": 10,
   "metadata": {
    "ExecuteTime": {
     "end_time": "2021-08-29T17:05:00.727166Z",
     "start_time": "2021-08-29T17:03:29.737507Z"
    }
   },
   "outputs": [
    {
     "name": "stdout",
     "output_type": "stream",
     "text": [
      "Epoch=1/20, Error=0.064020\n",
      "Epoch=2/20, Error=0.043093\n",
      "Epoch=3/20, Error=0.038032\n",
      "Epoch=4/20, Error=0.035455\n",
      "Epoch=5/20, Error=0.033806\n",
      "Epoch=6/20, Error=0.032629\n",
      "Epoch=7/20, Error=0.031721\n",
      "Epoch=8/20, Error=0.030990\n",
      "Epoch=9/20, Error=0.030381\n",
      "Epoch=10/20, Error=0.029860\n",
      "Epoch=11/20, Error=0.029403\n",
      "Epoch=12/20, Error=0.028998\n",
      "Epoch=13/20, Error=0.028638\n",
      "Epoch=14/20, Error=0.028314\n",
      "Epoch=15/20, Error=0.028019\n",
      "Epoch=16/20, Error=0.027746\n",
      "Epoch=17/20, Error=0.027495\n",
      "Epoch=18/20, Error=0.027261\n",
      "Epoch=19/20, Error=0.027043\n",
      "Epoch=20/20, Error=0.026840\n",
      "tempo de treinamento = 300.82 s\n"
     ]
    }
   ],
   "source": [
    "from MLP_DavidJentjens import *\n",
    "\n",
    "np.random.seed(13)  # garante que todas as inicializações são iguais\n",
    "start = time.perf_counter()\n",
    "\n",
    "err_train=net.fit(x_train, y_train_one_hot, epochs=20, mini_batch=1000, learning_rate=0.1)\n",
    "\n",
    "stop=time.perf_counter()\n",
    "time_train = stop-start\n",
    "print(f'tempo de treinamento = {time_train:.2f} s')"
   ]
  },
  {
   "cell_type": "code",
   "execution_count": 11,
   "metadata": {
    "ExecuteTime": {
     "end_time": "2021-08-29T17:05:06.335064Z",
     "start_time": "2021-08-29T17:05:06.253799Z"
    }
   },
   "outputs": [
    {
     "data": {
      "image/png": "[encoded data removed]",
      "text/plain": [
       "<Figure size 576x360 with 1 Axes>"
      ]
     },
     "metadata": {
      "needs_background": "light"
     },
     "output_type": "display_data"
    }
   ],
   "source": [
    "x = np.arange(0,len(err_train),1)\n",
    "plt.figure(figsize=(8,5))\n",
    "plt.plot(x,err_train)\n",
    "plt.ylabel('erro')\n",
    "plt.xlabel('epocas')\n",
    "plt.show()"
   ]
  },
  {
   "cell_type": "markdown",
   "metadata": {},
   "source": [
    "<h2>Teste</h2>"
   ]
  },
  {
   "cell_type": "code",
   "execution_count": 12,
   "metadata": {
    "ExecuteTime": {
     "end_time": "2021-08-29T17:05:09.453345Z",
     "start_time": "2021-08-29T17:05:08.985769Z"
    }
   },
   "outputs": [
    {
     "name": "stdout",
     "output_type": "stream",
     "text": [
      "(10000, 10) (10000,)\n",
      "tempo de predicao = 0.069 s\n"
     ]
    }
   ],
   "source": [
    "start=time.perf_counter()\n",
    "y_pred_one_hot = net.predict(x_test)\n",
    "y_pred = np.argmax(y_pred_one_hot, axis=-1)\n",
    "print(y_pred_one_hot.shape, y_pred.shape)\n",
    "stop=time.perf_counter()\n",
    "time_pred = stop-start\n",
    "print(f'tempo de predicao = {time_pred:.3f} s')"
   ]
  },
  {
   "cell_type": "code",
   "execution_count": 13,
   "metadata": {
    "ExecuteTime": {
     "end_time": "2021-08-29T17:05:09.952072Z",
     "start_time": "2021-08-29T17:05:09.942648Z"
    }
   },
   "outputs": [],
   "source": [
    "def plot_confusion_matrix(title,cm,class_names,size):\n",
    "    \"\"\"\n",
    "    Returns a matplotlib figure containing the plotted confusion matrix.\n",
    "    \n",
    "    Args:\n",
    "       cm (array, shape = [n, n]): a confusion matrix of integer classes\n",
    "       class_names (array, shape = [n]): String names of the integer classes\n",
    "    \"\"\"\n",
    "    figure = plt.figure(figsize=(size,size))\n",
    "    plt.imshow(cm, interpolation='nearest', cmap=plt.cm.Blues)\n",
    "    plt.title(title)\n",
    "   \n",
    "    tick_marks = np.arange(len(class_names))\n",
    "    plt.xticks(tick_marks, class_names)\n",
    "    plt.yticks(tick_marks, class_names)\n",
    "    \n",
    "    # Normalize the confusion matrix.\n",
    "    #cm = np.around(cm.astype('float') / cm.sum(axis=1)[:, np.newaxis], decimals=2)\n",
    "    \n",
    "    # Use white text if squares are dark; otherwise black.\n",
    "    threshold = 0.7*cm.max()\n",
    "    \n",
    "    #for i, j in itt.product(range(cm.shape[0]), range(cm.shape[1])):\n",
    "    for i in range(cm.shape[0]):\n",
    "        for j in range(cm.shape[1]):\n",
    "            color = \"white\" if cm[i, j] > threshold else \"black\"\n",
    "            plt.text(j, i, cm[i, j], horizontalalignment=\"center\", color=color)\n",
    "        \n",
    "    plt.tight_layout()\n",
    "    plt.ylabel('True label')\n",
    "    plt.xlabel('Predicted label')\n",
    "    return figure"
   ]
  },
  {
   "cell_type": "code",
   "execution_count": 14,
   "metadata": {
    "ExecuteTime": {
     "end_time": "2021-08-29T17:05:11.176454Z",
     "start_time": "2021-08-29T17:05:10.988323Z"
    }
   },
   "outputs": [
    {
     "data": {
      "image/png": "[encoded data removed]",
      "text/plain": [
       "<Figure size 432x432 with 1 Axes>"
      ]
     },
     "metadata": {
      "needs_background": "light"
     },
     "output_type": "display_data"
    }
   ],
   "source": [
    "# Calculate the confusion matrix using sklearn.metrics\n",
    "CM = mt.confusion_matrix(y_test, y_pred)\n",
    "fig=plot_confusion_matrix(\"Matriz de Confusao\", CM, ['0', '1', '2', '3', '4', '5', '6', '7', '8', '9'], 6)"
   ]
  },
  {
   "cell_type": "markdown",
   "metadata": {},
   "source": [
    "<h2>Medidas de erro</h2>"
   ]
  },
  {
   "cell_type": "code",
   "execution_count": 15,
   "metadata": {
    "ExecuteTime": {
     "end_time": "2021-08-29T17:05:19.556387Z",
     "start_time": "2021-08-29T17:05:19.551803Z"
    }
   },
   "outputs": [
    {
     "name": "stdout",
     "output_type": "stream",
     "text": [
      "Acuracia=76%\n"
     ]
    }
   ],
   "source": [
    "num = den = 0\n",
    "for i in range(10):\n",
    "    for j in range(10):\n",
    "        if i==j:\n",
    "            num+=CM[i,j]\n",
    "        den+=CM[i,j]\n",
    "acuracia = 100*num/den\n",
    "print(f'Acuracia={acuracia:.0f}%')"
   ]
  },
  {
   "cell_type": "markdown",
   "metadata": {},
   "source": [
    "<h2>Salva os resultados</h2>"
   ]
  },
  {
   "cell_type": "code",
   "execution_count": 16,
   "metadata": {
    "ExecuteTime": {
     "end_time": "2021-08-29T17:05:21.708856Z",
     "start_time": "2021-08-29T17:05:21.704350Z"
    }
   },
   "outputs": [],
   "source": [
    "fp = open(\"t2.csv\",\"a\")\n",
    "fp.write(f'{autor};{time_train};{time_pred};{acuracia}\\n')\n",
    "fp.close()"
   ]
  },
  {
   "cell_type": "markdown",
   "metadata": {},
   "source": []
  }
 ],
 "metadata": {
  "interpreter": {
   "hash": "d16beab33433e7435dee108bfd4edae8a722c34ab8e0212e95b0341d917b40b7"
  },
  "kernelspec": {
   "display_name": "Python 3",
   "language": "python",
   "name": "python3"
  },
  "language_info": {
   "codemirror_mode": {
    "name": "ipython",
    "version": 3
   },
   "file_extension": ".py",
   "mimetype": "text/x-python",
   "name": "python",
   "nbconvert_exporter": "python",
   "pygments_lexer": "ipython3",
   "version": "3.8.5"
  },
  "latex_envs": {
   "LaTeX_envs_menu_present": true,
   "autoclose": true,
   "autocomplete": true,
   "bibliofile": "biblio.bib",
   "cite_by": "apalike",
   "current_citInitial": 1,
   "eqLabelWithNumbers": true,
   "eqNumInitial": 1,
   "hotkeys": {
    "equation": "Ctrl-E",
    "itemize": "Ctrl-I"
   },
   "labels_anchors": false,
   "latex_user_defs": false,
   "report_style_numbering": false,
   "user_envs_cfg": false
  },
  "varInspector": {
   "cols": {
    "lenName": 16,
    "lenType": 16,
    "lenVar": 40
   },
   "kernels_config": {
    "python": {
     "delete_cmd_postfix": "",
     "delete_cmd_prefix": "del ",
     "library": "var_list.py",
     "varRefreshCmd": "print(var_dic_list())"
    },
    "r": {
     "delete_cmd_postfix": ") ",
     "delete_cmd_prefix": "rm(",
     "library": "var_list.r",
     "varRefreshCmd": "cat(var_dic_list()) "
    }
   },
   "types_to_exclude": [
    "module",
    "function",
    "builtin_function_or_method",
    "instance",
    "_Feature"
   ],
   "window_display": false
  }
 },
 "nbformat": 4,
 "nbformat_minor": 4
}
